{
 "cells": [
  {
   "cell_type": "code",
   "execution_count": 1,
   "metadata": {},
   "outputs": [
    {
     "name": "stdout",
     "output_type": "stream",
     "text": [
      "Nutritional Value:\n",
      "Calories: 235 (12%)\n",
      "Protein: 13g (26%)\n",
      "Carbohydrates: 37g (12%)\n",
      "Fats: 8g (12%)\n",
      "Fiber: 5g (20%)\n",
      "Sugars: 10g (11%)\n",
      "Cholesterol: 55mg (18%)\n",
      "Sodium: 450mg (19%)\n",
      "Iron: 2mg (11%)\n",
      "Calcium: 80mg (8%)\n",
      "\n",
      "Approximate Serving: 1 cup\n"
     ]
    }
   ],
   "source": [
    "import requests\n",
    "\n",
    "response=requests.post(\n",
    "    \"http://localhost:8002/info/invoke\",\n",
    "    json={'input':{'dish':\"chole\"}})\n",
    "\n",
    "facts = response.json()['output']['content']\n",
    "print(response.json()['output']['content'])"
   ]
  },
  {
   "cell_type": "code",
   "execution_count": 2,
   "metadata": {},
   "outputs": [],
   "source": [
    "import re\n",
    "\n",
    "# facts = \"\"\"\n",
    "# Nutritional Value:\n",
    "# Calories: 210 (10%)\n",
    "# Protein: 10g (15%)\n",
    "# Carbohydrates: 35g (12%)\n",
    "# Fats: 9g (13%)\n",
    "# Fiber: 5g (20%)\n",
    "# Sugars: 10g (11%)\n",
    "# Cholesterol: 50mg (17%)\n",
    "# Sodium: 600mg (26%)\n",
    "# Iron: 3mg (17%)\n",
    "# Calcium: 100mg (10%)\n",
    "\n",
    "# Approximate Serving: 1 cup\n",
    "# \"\"\"\n",
    "\n",
    "# Define a regular expression pattern to match each line\n",
    "\n",
    "x=facts.split('Approximate Serving:')\n",
    "serving = x[1].split('\\n')[0].strip()\n",
    "nutritional_values = x[0].split('Nutritional Value:')[1][1:]\n",
    "nutrients = nutritional_values.split('\\n')\n",
    "nutritional_data = {}\n",
    "for nutrient in nutrients:\n",
    "    if nutrient:\n",
    "        nutritional_data[nutrient.split(':')[0].strip()] = {'value':nutrient.split(':')[1].strip().split(' ')[0].strip(),'percentage':nutrient.split(':')[1].strip().split(' ')[1][1:-1].strip()}\n"
   ]
  },
  {
   "cell_type": "code",
   "execution_count": 8,
   "metadata": {},
   "outputs": [],
   "source": [
    "def get_nutritional_data(facts):\n",
    "    x=facts.split('Approximate Serving:')\n",
    "    serving = x[1].split('\\n')[0].strip()\n",
    "    nutritional_values = x[0].split('Nutritional Value:')[1][1:]\n",
    "    nutrients = nutritional_values.split('\\n')\n",
    "    nutritional_data = {}\n",
    "    for nutrient in nutrients:\n",
    "        if nutrient:\n",
    "            nutritional_data[nutrient.split(':')[0].strip()] = {'value':nutrient.split(':')[1].strip().split(' ')[0].strip(),'percentage':nutrient.split(':')[1].strip().split(' ')[1][1:-1].strip()}\n",
    "    return nutritional_data,serving"
   ]
  },
  {
   "cell_type": "code",
   "execution_count": 7,
   "metadata": {},
   "outputs": [
    {
     "name": "stdout",
     "output_type": "stream",
     "text": [
      "{\"Calories\": {\"value\": \"235\", \"percentage\": \"12%\"}, \"Protein\": {\"value\": \"13g\", \"percentage\": \"26%\"}, \"Carbohydrates\": {\"value\": \"37g\", \"percentage\": \"12%\"}, \"Fats\": {\"value\": \"8g\", \"percentage\": \"12%\"}, \"Fiber\": {\"value\": \"5g\", \"percentage\": \"20%\"}, \"Sugars\": {\"value\": \"10g\", \"percentage\": \"11%\"}, \"Cholesterol\": {\"value\": \"55mg\", \"percentage\": \"18%\"}, \"Sodium\": {\"value\": \"450mg\", \"percentage\": \"19%\"}, \"Iron\": {\"value\": \"2mg\", \"percentage\": \"11%\"}, \"Calcium\": {\"value\": \"80mg\", \"percentage\": \"8%\"}}\n"
     ]
    }
   ],
   "source": [
    "# nutritional_data to json\n",
    "import json\n",
    "nutritional_data_json = json.dumps(nutritional_data)\n",
    "print(nutritional_data_json)\n",
    "# Print the Calories value from the nutritional_data_json\n",
    "print(json.loads(nutritional_data_json)['Calories']['value'])"
   ]
  },
  {
   "cell_type": "code",
   "execution_count": null,
   "metadata": {},
   "outputs": [],
   "source": [
    "# Create a fastapi app with a single endpoint /nutritional_info post method that takes a json input with a key dish and returns the nutritional data and serving size of the dish\n",
    "\n",
    "from fastapi import FastAPI\n",
    "app = FastAPI()\n",
    "\n",
    "@app.post(\"/nutritional_info\")\n",
    "async def get_nutritional_info(data: dict):\n",
    "    dish = data['dish']\n",
    "    response=requests.post(\n",
    "        \"http://localhost:8002/info/invoke\",\n",
    "        json={'input':{'dish':dish}})\n",
    "    facts = response.json()['output']['content']\n",
    "    nutritional_data,serving = get_nutritional_data(facts)\n",
    "    # Convert the nutritional_data to json for easy parsing with javascript\n",
    "    nutritional_data = json.dumps(nutritional_data)\n",
    "    return {'nutritional_data':nutritional_data,'serving':serving}\n",
    "\n",
    "# Run the app using uvicorn\n",
    "import uvicorn\n",
    "uvicorn.run(app, host=\"localhost\", port=8001)"
   ]
  }
 ],
 "metadata": {
  "kernelspec": {
   "display_name": "finComp",
   "language": "python",
   "name": "python3"
  },
  "language_info": {
   "codemirror_mode": {
    "name": "ipython",
    "version": 3
   },
   "file_extension": ".py",
   "mimetype": "text/x-python",
   "name": "python",
   "nbconvert_exporter": "python",
   "pygments_lexer": "ipython3",
   "version": "3.9.18"
  }
 },
 "nbformat": 4,
 "nbformat_minor": 2
}
