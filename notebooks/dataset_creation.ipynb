{
 "cells": [
  {
   "cell_type": "code",
   "execution_count": null,
   "metadata": {},
   "outputs": [],
   "source": [
    "# Copy all the files from the simple_image folder to the indian-food-80 folder make sure the simple_image_folder has folders with images in it\n",
    "import os\n",
    "import shutil\n",
    "\n",
    "def copy_files(src, dest):\n",
    "    for folder in os.listdir(src):\n",
    "        for file in os.listdir(os.path.join(src, folder)):\n",
    "            # If the folder is not present in the destination folder, create it\n",
    "            if not os.path.exists(os.path.join(dest, folder)):\n",
    "                os.makedirs(os.path.join(dest, folder))\n",
    "            # Copy the file from the source folder to the destination folder\n",
    "            shutil.copy(os.path.join(src, folder, file), os.path.join(dest, folder, file))\n",
    "            \n",
    "if __name__ == \"__main__\":\n",
    "    src = \"simple_images\"\n",
    "    dest = \"indian-food-80\"\n",
    "    copy_files(src, dest)\n",
    "    print(\"Files copied successfully!\")"
   ]
  },
  {
   "cell_type": "code",
   "execution_count": null,
   "metadata": {},
   "outputs": [],
   "source": [
    "# Delete the first 4 images from the indian-food-80's each folder by sorting the files based on the name last number by splitting the name with _ and sorting based on the last number\n",
    "import os\n",
    "import re\n",
    "\n",
    "def delete_files(dest):\n",
    "    for folder in os.listdir(dest):\n",
    "        files = os.listdir(os.path.join(dest, folder))\n",
    "        # Sort the files based on the last number in the file name\n",
    "        files.sort(key=lambda x: int(re.search(r\"_(\\d+)\\.\", x).group(1)))\n",
    "        # Delete the first 4 files\n",
    "        for file in files[:4]:\n",
    "            os.remove(os.path.join(dest, folder, file))\n",
    "            # print(file)\n",
    "            \n",
    "if __name__ == \"__main__\":\n",
    "    dest = \"indian-food-80\"\n",
    "    delete_files(dest)\n",
    "    print(\"Files deleted successfully!\")\n",
    "    "
   ]
  },
  {
   "cell_type": "code",
   "execution_count": null,
   "metadata": {},
   "outputs": [],
   "source": [
    "# Create the image-food-80 folder for huggingface image loader\n",
    "# Create two folders train and test in the indian-food-80 folder\n",
    "# Remove the first 4 images from each folder in the indian-food-80 folder\n",
    "# Move the 80% of the images to the train folder and 20% of the images to the test folder for each folder in the indian-food-80 folder except train and test\n",
    "import random\n",
    "import shutil\n",
    "import os\n",
    "\n",
    "\n",
    "def split_files(src, dest):\n",
    "    for folder in os.listdir(src):\n",
    "        if folder != \"train\" and folder != \"test\":\n",
    "            files = os.listdir(os.path.join(src, folder))\n",
    "            # print(files)\n",
    "            # Remove the first 4 images from the folder\n",
    "            # files = files[4:]\n",
    "            # Shuffle the files\n",
    "            random.shuffle(files)\n",
    "            # Calculate the number of files to move to the test folder\n",
    "            test_files = int(0.2 * len(files))\n",
    "            # Move the files to the train and test folders\n",
    "            for i, file in enumerate(files):\n",
    "                if i < test_files:\n",
    "                    # If the folder is not present in the destination folder, create it\n",
    "                    if not os.path.exists(os.path.join(dest, f\"test\", folder)):\n",
    "                        os.makedirs(os.path.join(dest, f\"test\", folder))\n",
    "                    shutil.move(os.path.join(src, folder, file), os.path.join(dest, f\"test/{folder}\", file))\n",
    "                else:\n",
    "                    if not os.path.exists(os.path.join(dest, f\"train\", folder)):\n",
    "                        os.makedirs(os.path.join(dest, f\"train\", folder))\n",
    "                    shutil.move(os.path.join(src, folder, file), os.path.join(dest, f\"train/{folder}\", file))\n",
    "                \n",
    "if __name__ == \"__main__\":\n",
    "    src = \"indian-food-80\"\n",
    "    dest = \"indian-foods-80\"\n",
    "    split_files(src, dest)\n",
    "    print(\"Files split successfully!\")\n",
    "\n",
    "    \n"
   ]
  },
  {
   "cell_type": "code",
   "execution_count": null,
   "metadata": {},
   "outputs": [],
   "source": [
    "\n",
    "# Create a file called labels.txt in the indian-food-80 folder\n",
    "# Write the labels to the labels.txt file\n",
    "\n",
    "def write_labels(src):\n",
    "    with open(os.path.join(src, \"labels.txt\"), \"w\") as f:\n",
    "        for folder in os.listdir(src):\n",
    "            if folder != \"train\" and folder != \"test\" and folder != \"labels.txt\":\n",
    "                f.write(folder + \"\\n\")\n",
    "                \n",
    "if __name__ == \"__main__\":\n",
    "    src = \"indian-food-80\"\n",
    "    write_labels(src)\n",
    "    print(\"Labels written successfully!\")"
   ]
  }
 ],
 "metadata": {
  "kernelspec": {
   "display_name": ".venv",
   "language": "python",
   "name": "python3"
  },
  "language_info": {
   "codemirror_mode": {
    "name": "ipython",
    "version": 3
   },
   "file_extension": ".py",
   "mimetype": "text/x-python",
   "name": "python",
   "nbconvert_exporter": "python",
   "pygments_lexer": "ipython3",
   "version": "3.8.10"
  }
 },
 "nbformat": 4,
 "nbformat_minor": 2
}
